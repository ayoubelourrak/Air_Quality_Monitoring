{
  "cells": [
    {
      "cell_type": "markdown",
      "metadata": {
        "id": "KgFZlT_g8O1Y"
      },
      "source": [
        "# Processamento de Streams 2023\n",
        "## TP1 - Air Quality Monitoring (airborne particulate matter)\n"
      ]
    },
    {
      "cell_type": "markdown",
      "metadata": {
        "id": "IRDJq9dL0GWA"
      },
      "source": [
        "The goal of this project is to analyze data provided by a set of air quality sensors. The sensors present in the dataset are located in Portugal. Each sensor provides two values: measuring particles less than 10 µm (P1) in μg/m³.\n",
        "\n",
        "The sensor data, covers the month of March 2022, and is streamed of Kafka.\n",
        "\n",
        "Each data sample has the following schema:\n",
        "\n",
        "timestamp | sensor_id | sensor_type | location | latitude | longitude | P1\n",
        "----------|-------------|----------|----------|-----------|-----------|----\n",
        "timestamp | string  | string | string | float | float|  float\n",
        "\n"
      ]
    },
    {
      "cell_type": "markdown",
      "metadata": {
        "id": "HC6tMDOU7Fdb"
      },
      "source": [
        "## Questions\n",
        "\n",
        "For each sensor, separately:\n",
        "\n",
        "1. Compute the cummulative average for P1, updated on a hourly basis.\n",
        "\n",
        "2. Compute the minumum, average and maximum of P1 (particles smaller than 10 µm) values, for the last two hours, updated every 10 minutes.\n",
        "\n",
        "3. Compute the (signed) deviation of P1 between the cummulative average and\n",
        "the two hour average (obtained in the previous step), updated hourly.\n"
      ]
    },
    {
      "cell_type": "markdown",
      "metadata": {
        "id": "kdTj-7SD-67o"
      },
      "source": [
        "## Requeriments\n",
        "\n",
        "Solve each question using either Unstructed Spark Streaming or Structured Spark Streaming.\n",
        "\n",
        "To achieve the maximum grade, you need to use both, but do not have to solve every question twice."
      ]
    },
    {
      "cell_type": "markdown",
      "metadata": {
        "id": "qN2ogthr_EIH"
      },
      "source": [
        "## Other Grading Criteria\n",
        "\n",
        "+ 10% of the grade is reserved for presenting the results graphically as charts;\n",
        "+ Grading will also take into account the general clarity of the programming and of the presentation report (notebook).\n",
        "\n",
        "\n"
      ]
    },
    {
      "cell_type": "markdown",
      "metadata": {
        "id": "8M6lYfT_BpAO"
      },
      "source": [
        "### Deadline\n",
        "\n",
        "29th April + 1 day - ***no penalty***\n",
        "\n",
        "For each day late, ***0.5 / day penalty***. Penalty accumulates until\n",
        "the grade of the assignment reaches 8.0."
      ]
    },
    {
      "cell_type": "markdown",
      "metadata": {
        "id": "81dR9BTgBg1s"
      },
      "source": [
        "---\n",
        "### Colab Setup\n"
      ]
    },
    {
      "cell_type": "code",
      "execution_count": 1,
      "metadata": {
        "colab": {
          "base_uri": "https://localhost:8080/"
        },
        "id": "1eIWfDqQ3Cqi",
        "outputId": "20b59825-0529-46d7-ad77-2445b90e0079"
      },
      "outputs": [
        {
          "name": "stdout",
          "output_type": "stream",
          "text": [
            "Mounted at /content/drive\n"
          ]
        }
      ],
      "source": [
        "#@title Mount Google Drive (Optional)\n",
        "from google.colab import drive\n",
        "drive.mount('/content/drive')"
      ]
    },
    {
      "cell_type": "code",
      "execution_count": 2,
      "metadata": {
        "colab": {
          "base_uri": "https://localhost:8080/",
          "height": 87
        },
        "id": "L2O_3I3x1dbx",
        "outputId": "0fdd0730-f99b-4a03-b934-408b426b966f"
      },
      "outputs": [
        {
          "name": "stdout",
          "output_type": "stream",
          "text": [
            "\u001b[2K     \u001b[90m━━━━━━━━━━━━━━━━━━━━━━━━━━━━━━━━━━━━━━━\u001b[0m \u001b[32m310.8/310.8 MB\u001b[0m \u001b[31m4.7 MB/s\u001b[0m eta \u001b[36m0:00:00\u001b[0m\n",
            "\u001b[?25h  Preparing metadata (setup.py) ... \u001b[?25l\u001b[?25hdone\n",
            "  Building wheel for pyspark (setup.py) ... \u001b[?25l\u001b[?25hdone\n"
          ]
        },
        {
          "data": {
            "application/vnd.google.colaboratory.intrinsic+json": {
              "type": "string"
            },
            "text/plain": [
              "'/usr/local/lib/python3.10/dist-packages/pyspark'"
            ]
          },
          "execution_count": 2,
          "metadata": {},
          "output_type": "execute_result"
        }
      ],
      "source": [
        "#@title Install PySpark\n",
        "!pip install pyspark findspark --quiet\n",
        "import findspark\n",
        "findspark.init()\n",
        "findspark.find()"
      ]
    },
    {
      "cell_type": "code",
      "execution_count": 3,
      "metadata": {
        "colab": {
          "base_uri": "https://localhost:8080/"
        },
        "id": "Zl0sBUzOe7Af",
        "outputId": "995be2b6-a258-4b40-8edf-75fbedd841dc"
      },
      "outputs": [
        {
          "name": "stdout",
          "output_type": "stream",
          "text": [
            "Formatting /tmp/kraft-combined-logs with metadata.version 3.4-IV0.\n"
          ]
        }
      ],
      "source": [
        "#@title Install & Launch Kafka\n",
        "%%bash\n",
        "KAFKA_VERSION=3.4.1\n",
        "KAFKA=kafka_2.12-$KAFKA_VERSION\n",
        "wget -q -O /tmp/$KAFKA.tgz https://dlcdn.apache.org/kafka/$KAFKA_VERSION/$KAFKA.tgz\n",
        "tar xfz /tmp/$KAFKA.tgz\n",
        "wget -q -O $KAFKA/config/server1.properties - https://github.com/smduarte/ps2023/raw/main/colab/server1.properties\n",
        "\n",
        "UUID=`$KAFKA/bin/kafka-storage.sh random-uuid`\n",
        "$KAFKA/bin/kafka-storage.sh format -t $UUID -c $KAFKA/config/server1.properties\n",
        "$KAFKA/bin/kafka-server-start.sh -daemon $KAFKA/config/server1.properties"
      ]
    },
    {
      "cell_type": "markdown",
      "metadata": {
        "id": "51ECJ--i0D2G"
      },
      "source": [
        "### Air quality sensor data publisher\n",
        "This a small python Kafka client that publishes a continous stream of text lines, obtained from the periodic output of the sensors.\n",
        "\n",
        "* The Kafka server is accessible @localhost:9092\n",
        "* The events are published to the `air_quality` topic\n",
        "* Events are published 3600x faster than realtime relative to the timestamp\n"
      ]
    },
    {
      "cell_type": "code",
      "execution_count": 4,
      "metadata": {
        "colab": {
          "base_uri": "https://localhost:8080/"
        },
        "id": "GElosFxt-D4j",
        "outputId": "b49a892e-15e5-4756-f2cc-a68a7b8b59ed"
      },
      "outputs": [
        {
          "name": "stdout",
          "output_type": "stream",
          "text": [
            "     ━━━━━━━━━━━━━━━━━━━━━━━━━━━━━━━━━━━━━━━ 246.5/246.5 kB 8.1 MB/s eta 0:00:00\n"
          ]
        }
      ],
      "source": [
        "#@title Start Kafka Publisher\n",
        "%%bash\n",
        "pip install kafka-python dataclasses --quiet\n",
        "wget -q -O - https://github.com/smduarte/ps2023/raw/main/colab/kafka-tp1-logsender.tgz | tar xfz - 2> /dev/null\n",
        "wget -q -O sensors-sorted.csv https://github.com/smduarte/ps2023/raw/main/tp1/sensors-sorted.csv\n",
        "\n",
        "nohup python kafka-tp1-logsender/publisher.py --filename sensors-sorted.csv --topic air_quality  --speedup 60 2> kafka-publisher-error.log > kafka-publisher-out.log &"
      ]
    },
    {
      "cell_type": "code",
      "execution_count": null,
      "metadata": {
        "id": "X2YTxqxyASZZ"
      },
      "outputs": [],
      "source": [
        "#@title Python Kafka client (For Debugging)\n",
        "!pip -q install confluent-kafka\n",
        "from confluent_kafka import Consumer\n",
        "\n",
        "conf = {'bootstrap.servers': 'localhost:9092',\n",
        "        'group.id': '*',\n",
        "        'enable.auto.commit': False,\n",
        "        'auto.offset.reset': 'earliest'}\n",
        "\n",
        "try:\n",
        "  consumer = Consumer(conf)\n",
        "  consumer.subscribe(['air_quality'])\n",
        "\n",
        "  while True:\n",
        "    msg = consumer.poll(timeout=1.0)\n",
        "    if msg is None: continue\n",
        "    print(msg.value())\n",
        "finally:\n",
        "  consumer.close()"
      ]
    },
    {
      "cell_type": "markdown",
      "metadata": {
        "id": "1wihC26vaiT1"
      },
      "source": [
        "The python code below shows the basics needed to process JSON data from Kafka source using PySpark.\n",
        "\n",
        "Spark Streaming python documentation is found [here](https://spark.apache.org/docs/latest/api/python/reference/pyspark.streaming.html)\n",
        "\n",
        "---\n",
        "#### PySpark Kafka Stream Example\n"
      ]
    },
    {
      "cell_type": "code",
      "execution_count": null,
      "metadata": {
        "id": "x3zhqG34e_T7"
      },
      "outputs": [],
      "source": [
        "from pyspark.sql import SparkSession\n",
        "from pyspark.sql.functions import *\n",
        "from pyspark.sql.types import *\n",
        "\n",
        "def dumpBatchDF(df, epoch_id):\n",
        "    df.show(200, False)\n",
        "\n",
        "spark = SparkSession \\\n",
        "    .builder \\\n",
        "    .appName('Kafka Spark Structured Streaming Example') \\\n",
        "    .config('spark.jars.packages', 'org.apache.spark:spark-sql-kafka-0-10_2.12:3.3.2') \\\n",
        "    .getOrCreate()\n",
        "\n",
        "lines = spark \\\n",
        "  .readStream \\\n",
        "  .format('kafka') \\\n",
        "  .option('kafka.bootstrap.servers', 'localhost:9092') \\\n",
        "  .option('subscribe', 'air_quality') \\\n",
        "  .option('startingOffsets', 'earliest') \\\n",
        "  .load() \\\n",
        "  .selectExpr('CAST(value AS STRING)')\n",
        "\n",
        "\n",
        "schema = StructType([StructField('timestamp', TimestampType(), True),\n",
        "                     StructField('sensor_id', StringType(), True),\n",
        "                     StructField('sensor_type', StringType(), True),\n",
        "                     StructField('location', StringType(), True),\n",
        "                     StructField('latitude', FloatType(), True),\n",
        "                     StructField('longitude', FloatType(), True),\n",
        "                     StructField('p1', FloatType(), True)])\n",
        "\n",
        "lines = lines.select( from_json(col('value'), schema).alias('data')).select('data.*')\n",
        "\n",
        "query = lines \\\n",
        "    .writeStream \\\n",
        "    .format('csv') \\\n",
        "    .option('path','dir') \\\n",
        "    .outputMode('append') \\\n",
        "    .foreachBatch(dumpBatchDF) \\\n",
        "    .start()\n",
        "\n",
        "query.awaitTermination(60)\n",
        "query.stop()\n",
        "spark.stop()"
      ]
    },
    {
      "cell_type": "code",
      "execution_count": null,
      "metadata": {
        "colab": {
          "background_save": true
        },
        "id": "zwTdCzLfbSIX",
        "outputId": "38c37bdb-cff4-4c7f-f5da-58f4d7149fb9"
      },
      "outputs": [
        {
          "name": "stdout",
          "output_type": "stream",
          "text": [
            "+-------------------+-------------------+\n",
            "|               time|          deviation|\n",
            "+-------------------+-------------------+\n",
            "|2022-03-01 01:00:00|                0.0|\n",
            "|2022-03-01 02:00:00|                0.0|\n",
            "|2022-03-01 03:00:00| 0.5046068157910995|\n",
            "|2022-03-01 04:00:00| 1.9915456121202748|\n",
            "|2022-03-01 05:00:00|  2.522496105295808|\n",
            "|2022-03-01 06:00:00|-0.9228884180341659|\n",
            "|2022-03-01 07:00:00| -6.819951664619616|\n",
            "|2022-03-01 08:00:00|-10.467466277617334|\n",
            "|2022-03-01 09:00:00| -7.475431895307672|\n",
            "|2022-03-01 10:00:00|-3.2771220567369923|\n",
            "|2022-03-01 11:00:00| 0.6757732379639698|\n",
            "|2022-03-01 12:00:00|  4.893141102588114|\n",
            "|2022-03-01 13:00:00|  5.485996317779481|\n",
            "|2022-03-01 14:00:00|  6.183164334590536|\n",
            "|2022-03-01 15:00:00|  8.021502024636442|\n",
            "|2022-03-01 16:00:00| 10.087737054931567|\n",
            "|2022-03-01 17:00:00|  10.30001135196486|\n",
            "|2022-03-01 18:00:00|  9.100019166913105|\n",
            "|2022-03-01 19:00:00| 7.2442349362187315|\n",
            "|2022-03-01 20:00:00| 6.3876453328272405|\n",
            "+-------------------+-------------------+\n",
            "only showing top 20 rows\n",
            "\n"
          ]
        },
        {
          "name": "stderr",
          "output_type": "stream",
          "text": [
            "/usr/local/lib/python3.10/dist-packages/pyspark/sql/pandas/conversion.py:251: FutureWarning: Passing unit-less datetime64 dtype to .astype is deprecated and will raise in a future version. Pass 'datetime64[ns]' instead\n",
            "  series = series.astype(t, copy=False)\n"
          ]
        },
        {
          "data": {
            "image/png": "[encoded data removed]",
            "text/plain": [
              "<Figure size 640x480 with 1 Axes>"
            ]
          },
          "metadata": {},
          "output_type": "display_data"
        }
      ],
      "source": [
        "#@title 3rd point Structured Spark Streaming\n",
        "from pyspark.sql import SparkSession\n",
        "from pyspark.sql.functions import *\n",
        "from pyspark.sql.types import *\n",
        "from pyspark.sql.window import Window\n",
        "\n",
        "def dumpBatchDF(df, epoch_id):\n",
        "    cumulative_sum_df = df \\\n",
        "        .withColumn('cumsum', sum(df.p1_sum).over(Window.partitionBy().orderBy().rowsBetween(-sys.maxsize, 0))) \\\n",
        "        .withColumn('cumcount', sum(df.p1_count).over(Window.partitionBy().orderBy().rowsBetween(-sys.maxsize, 0)))\n",
        "    two_hours_sum_df = df \\\n",
        "        .withColumn('cumsum', sum(df.p1_sum).over(Window.partitionBy().orderBy().rowsBetween(-1, 0))) \\\n",
        "        .withColumn('cumcount', sum(df.p1_count).over(Window.partitionBy().orderBy().rowsBetween(-1, 0)))\n",
        "    cumulative_avg_df = cumulative_sum_df \\\n",
        "        .selectExpr('window.start as start_1', 'window.end as end_1', 'cumsum/cumcount as avg_1')\n",
        "    two_hours_avg_df = two_hours_sum_df \\\n",
        "        .selectExpr('window.start as start_2', 'window.end as end_2', 'cumsum/cumcount as avg_2')\n",
        "    combined_df = two_hours_avg_df.join( cumulative_avg_df, two_hours_avg_df.end_2 == cumulative_avg_df.end_1)\n",
        "    df_final = combined_df \\\n",
        "        .selectExpr('end_2 as time', 'avg_1 - avg_2 as deviation')\n",
        "    df_final.write.csv(\"deviation\", mode=\"overwrite\")\n",
        "\n",
        "\n",
        "spark = SparkSession \\\n",
        "    .builder \\\n",
        "    .appName('Kafka Spark Structured Streaming Example') \\\n",
        "    .config('spark.jars.packages', 'org.apache.spark:spark-sql-kafka-0-10_2.12:3.3.2') \\\n",
        "    .getOrCreate()\n",
        "\n",
        "lines = spark \\\n",
        "  .readStream \\\n",
        "  .format('kafka') \\\n",
        "  .option('kafka.bootstrap.servers', 'localhost:9092') \\\n",
        "  .option('subscribe', 'air_quality') \\\n",
        "  .option('startingOffsets', 'earliest') \\\n",
        "  .load() \\\n",
        "  .selectExpr('CAST(value AS STRING)')\n",
        "\n",
        "\n",
        "schema = StructType([StructField('timestamp', TimestampType(), True),\n",
        "                     StructField('sensor_id', StringType(), True),\n",
        "                     StructField('sensor_type', StringType(), True),\n",
        "                     StructField('location', StringType(), True),\n",
        "                     StructField('latitude', FloatType(), True),\n",
        "                     StructField('longitude', FloatType(), True),\n",
        "                     StructField('p1', FloatType(), True)])\n",
        "\n",
        "lines = lines.select( from_json(col('value'), schema).alias('data')).select('data.*') \\\n",
        "            .withWatermark('timestamp', '2 hours') \\\n",
        "            .dropDuplicates() \\\n",
        "            .groupBy(window('timestamp', '1 hour')) \\\n",
        "            .agg(sum('p1').alias('p1_sum'), count('*').alias('p1_count')) \\\n",
        "            .orderBy('window')\n",
        "\n",
        "query = lines \\\n",
        "    .writeStream \\\n",
        "    .outputMode('complete') \\\n",
        "    .foreachBatch(dumpBatchDF) \\\n",
        "    .start()\n",
        "\n",
        "query.awaitTermination(3600)\n",
        "query.stop()\n",
        "schema_csv = StructType([StructField('time', TimestampType(), True), StructField('deviation', DoubleType(), True)])\n",
        "complete_dataframe = spark.read.schema(schema_csv).format(\"csv\").load(\"deviation\")\n",
        "complete_dataframe.show(20)\n",
        "complete_dataframe.toPandas().plot.line(x='time', y='deviation')\n",
        "spark.stop()"
      ]
    },
    {
      "cell_type": "markdown",
      "metadata": {
        "id": "EMAyVFCwTTKk"
      },
      "source": [
        "### Spark Streaming (UnStructured)\n",
        "\n",
        "Latest Spark does not support Kafka sources with UnStructured Streaming.\n",
        "\n",
        "The next cell publishes the dataset using a TCP server, running at port 7777. For this mode, there is no need to install or run Kafka, using the cell above.\n",
        "\n",
        "The events are played faster than \"realtime\", at a 3600x speedup, such that 1 hour in terms of dataset timestamps is\n",
        "sent in 1 second realtime, provided the machine is fast enough. As such, Spark Streaming window functions need to be sized accordingly, since a minibatch of 1 second will be\n",
        "worth 1 hour of dataset events."
      ]
    },
    {
      "cell_type": "code",
      "execution_count": null,
      "metadata": {
        "id": "oFrPUKgtNjxO"
      },
      "outputs": [],
      "source": [
        "#@title Start Socket-based Publisher\n",
        "%%bash\n",
        "pip install kafka-python dataclasses --quiet\n",
        "\n",
        "wget -q -O - https://github.com/smduarte/ps2023/raw/main/colab/socket-tp1-logsender.tgz | tar xfz - 2> /dev/null\n",
        "wget -q -O sensors-sorted.csv https://github.com/smduarte/ps2023/raw/main/tp1/sensors-sorted.csv\n",
        "\n",
        "nohup python socket-tp1-logsender/publisher.py --filename sensors-sorted.csv --speedup 60 2> socket-publisher-error.log > socket-publisher-out.log &"
      ]
    },
    {
      "cell_type": "markdown",
      "metadata": {
        "id": "DTogabrlXZSX"
      },
      "source": [
        "Each line sample has the following parts separated by blanks:\n",
        "\n",
        "| timestamp| sensor_id | sensor_type | location | latitude | longitude | P1\n",
        "----------|-------------|----------|----------|-----------|-----------|----\n",
        "timestamp| string  | string | string | float | float| float |\n",
        "\n"
      ]
    },
    {
      "cell_type": "code",
      "execution_count": null,
      "metadata": {
        "id": "RLHQoF9xOLKj"
      },
      "outputs": [],
      "source": [
        "#@title Spark Streaming (Unstructured) Example\n",
        "from pyspark import SparkContext\n",
        "from pyspark.sql import SparkSession\n",
        "from pyspark.streaming import StreamingContext\n",
        "\n",
        "spark = SparkSession \\\n",
        "    .builder \\\n",
        "    .appName('Spark UnStructured Streaming Example') \\\n",
        "    .config('spark.jars.packages', 'org.apache.spark:spark-sql-kafka-0-10_2.12:3.3.2') \\\n",
        "    .getOrCreate()\n",
        "\n",
        "try:\n",
        "  ssc = StreamingContext(spark.sparkContext, 1)\n",
        "  lines = ssc.socketTextStream('localhost', 7777)\n",
        "\n",
        "  lines.pprint()\n",
        "\n",
        "  ssc.start()\n",
        "  ssc.awaitTermination(20)\n",
        "except Exception as err:\n",
        "  print(err)\n",
        "ssc.stop()\n",
        "spark.stop()"
      ]
    }
  ],
  "metadata": {
    "colab": {
      "provenance": []
    },
    "kernelspec": {
      "display_name": "Python 3",
      "name": "python3"
    },
    "language_info": {
      "name": "python"
    }
  },
  "nbformat": 4,
  "nbformat_minor": 0
}
